{
 "cells": [
  {
   "cell_type": "code",
   "execution_count": 1,
   "id": "c749ef6d-87e4-40b3-a254-8bfdc1432515",
   "metadata": {},
   "outputs": [
    {
     "data": {
      "text/plain": [
       "'/home/clgould99/TheBattmobile/Alfred/test_data'"
      ]
     },
     "execution_count": 1,
     "metadata": {},
     "output_type": "execute_result"
    }
   ],
   "source": [
    "import os\n",
    "os.getcwd()"
   ]
  },
  {
   "cell_type": "code",
   "execution_count": 4,
   "id": "11f0628a-751b-4f5a-aabb-1d7ba8cf2645",
   "metadata": {},
   "outputs": [],
   "source": [
    "from build_data_vis import find_directory"
   ]
  },
  {
   "cell_type": "code",
   "execution_count": 5,
   "id": "78f49423-7ef6-4703-990a-f59a96fa503c",
   "metadata": {},
   "outputs": [],
   "source": [
    "import pathlib\n",
    "from build_data_vis import find_directory\n",
    "\n",
    "# Call the function to get the directory\n",
    "directory = find_directory()\n",
    "\n",
    "# Assertion to check if the returned directory ends with a forward slash\n",
    "assert directory.endswith('/'), \"Directory does not end with a forward slash\"\n"
   ]
  },
  {
   "cell_type": "code",
   "execution_count": 6,
   "id": "50c393fd-846e-41ad-ae0f-891ec74143a2",
   "metadata": {},
   "outputs": [
    {
     "name": "stderr",
     "output_type": "stream",
     "text": [
      ".\n",
      "----------------------------------------------------------------------\n",
      "Ran 1 test in 0.002s\n",
      "\n",
      "OK\n"
     ]
    }
   ],
   "source": [
    "import unittest\n",
    "import pathlib\n",
    "from build_data_vis import find_directory\n",
    "\n",
    "class TestFindDirectory(unittest.TestCase):\n",
    "\n",
    "    def test_find_directory_ends_with_forward_slash(self):\n",
    "        # Call the function to get the directory\n",
    "        directory = find_directory()\n",
    "\n",
    "        # Assertion to check if the returned directory ends with a forward slash\n",
    "        self.assertTrue(directory.endswith('/'), \"Directory does not end with a forward slash\")\n",
    "\n",
    "if __name__ == '__main__':\n",
    "    suite = unittest.TestLoader().loadTestsFromTestCase(TestFindDirectory)\n",
    "    unittest.TextTestRunner().run(suite)\n"
   ]
  },
  {
   "cell_type": "code",
   "execution_count": 7,
   "id": "c854ee44-0b5b-4903-bb9c-f9982043f848",
   "metadata": {},
   "outputs": [
    {
     "ename": "FileNotFoundError",
     "evalue": "[Errno 2] No such file or directory: '/home/clgould99/TheBattmobile/Alfred/test_data/vis_buses/bus_0039142903b40233500710/'",
     "output_type": "error",
     "traceback": [
      "\u001b[0;31m---------------------------------------------------------------------------\u001b[0m",
      "\u001b[0;31mFileNotFoundError\u001b[0m                         Traceback (most recent call last)",
      "Cell \u001b[0;32mIn[7], line 6\u001b[0m\n\u001b[1;32m      4\u001b[0m \u001b[38;5;66;03m# Assuming 'directory' and 'bus_num' are valid for your test case\u001b[39;00m\n\u001b[1;32m      5\u001b[0m directory \u001b[38;5;241m=\u001b[39m find_directory()\n\u001b[0;32m----> 6\u001b[0m sorted_df \u001b[38;5;241m=\u001b[39m sort_bus_by_date(directory, \u001b[38;5;124m'\u001b[39m\u001b[38;5;124mvis_buses/bus_0039142903b40233500710/\u001b[39m\u001b[38;5;124m'\u001b[39m)\n\u001b[1;32m      8\u001b[0m \u001b[38;5;66;03m# Assertion to check if the DataFrame is sorted by the 'DateRetrieved' column\u001b[39;00m\n\u001b[1;32m      9\u001b[0m \u001b[38;5;28;01massert\u001b[39;00m (sorted_df[\u001b[38;5;124m'\u001b[39m\u001b[38;5;124mDateRetrieved\u001b[39m\u001b[38;5;124m'\u001b[39m]\u001b[38;5;241m.\u001b[39mis_monotonic_increasing), \u001b[38;5;124m\"\u001b[39m\u001b[38;5;124mDataFrame is not sorted by \u001b[39m\u001b[38;5;124m'\u001b[39m\u001b[38;5;124mDateRetrieved\u001b[39m\u001b[38;5;124m'\u001b[39m\u001b[38;5;124m column in ascending order\u001b[39m\u001b[38;5;124m\"\u001b[39m\n",
      "File \u001b[0;32m~/TheBattmobile/Alfred/test_data/build_data_vis.py:33\u001b[0m, in \u001b[0;36msort_bus_by_date\u001b[0;34m(directory, bus_num)\u001b[0m\n\u001b[1;32m     31\u001b[0m \u001b[38;5;66;03m# make list of all files in bus folder\u001b[39;00m\n\u001b[1;32m     32\u001b[0m csv_list \u001b[38;5;241m=\u001b[39m []\n\u001b[0;32m---> 33\u001b[0m \u001b[38;5;28;01mfor\u001b[39;00m file \u001b[38;5;129;01min\u001b[39;00m listdir(bus_directory):\n\u001b[1;32m     34\u001b[0m     \u001b[38;5;28;01mif\u001b[39;00m file\u001b[38;5;241m.\u001b[39mendswith(\u001b[38;5;124m'\u001b[39m\u001b[38;5;124m.csv\u001b[39m\u001b[38;5;124m'\u001b[39m):\n\u001b[1;32m     35\u001b[0m         csv_list\u001b[38;5;241m.\u001b[39mappend(file)\n",
      "\u001b[0;31mFileNotFoundError\u001b[0m: [Errno 2] No such file or directory: '/home/clgould99/TheBattmobile/Alfred/test_data/vis_buses/bus_0039142903b40233500710/'"
     ]
    }
   ],
   "source": [
    "import pandas as pd\n",
    "from build_data_vis import sort_bus_by_date\n",
    "\n",
    "# Assuming 'directory' and 'bus_num' are valid for your test case\n",
    "directory = find_directory()\n",
    "sorted_df = sort_bus_by_date(directory, 'vis_buses/bus_0039142903b40233500710/')\n",
    "\n",
    "# Assertion to check if the DataFrame is sorted by the 'DateRetrieved' column\n",
    "assert (sorted_df['DateRetrieved'].is_monotonic_increasing), \"DataFrame is not sorted by 'DateRetrieved' column in ascending order\"\n"
   ]
  },
  {
   "cell_type": "code",
   "execution_count": 2,
   "id": "ef0b40f3-5187-4925-9301-19fde2c52f6d",
   "metadata": {},
   "outputs": [
    {
     "name": "stderr",
     "output_type": "stream",
     "text": [
      "E\n",
      "======================================================================\n",
      "ERROR: test_sort_bus_by_date (__main__.TestSortBusByDate.test_sort_bus_by_date)\n",
      "----------------------------------------------------------------------\n",
      "Traceback (most recent call last):\n",
      "  File \"/tmp/ipykernel_15655/3797369671.py\", line 10, in test_sort_bus_by_date\n",
      "    sorted_df = sort_bus_by_date(directory, 'vis_buses/bus_0039153506k40233500710/')\n",
      "                ^^^^^^^^^^^^^^^^^^^^^^^^^^^^^^^^^^^^^^^^^^^^^^^^^^^^^^^^^^^^^^^^^^^^\n",
      "  File \"/home/clgould99/TheBattmobile/Alfred/test_data/build_data_vis.py\", line 33, in sort_bus_by_date\n",
      "    for file in listdir(bus_directory):\n",
      "                ^^^^^^^^^^^^^^^^^^^^^^\n",
      "FileNotFoundError: [Errno 2] No such file or directory: '/home/clgould99/TheBattmobile/Alfred/test_data/vis_buses/bus_0039153506k40233500710/'\n",
      "\n",
      "----------------------------------------------------------------------\n",
      "Ran 1 test in 0.005s\n",
      "\n",
      "FAILED (errors=1)\n"
     ]
    }
   ],
   "source": [
    "import unittest\n",
    "import pandas as pd\n",
    "from build_data_vis import sort_bus_by_date, find_directory\n",
    "\n",
    "class TestSortBusByDate(unittest.TestCase):\n",
    "\n",
    "    def test_sort_bus_by_date(self):\n",
    "        # Call the function to get the directory\n",
    "        directory = find_directory()\n",
    "        sorted_df = sort_bus_by_date(directory, 'vis_buses/bus_0039153506k40233500710/')\n",
    "\n",
    "        # Assertion to check if the DataFrame is sorted by the 'DateRetrieved' column\n",
    "        self.assertTrue(sorted_df['DateRetrieved'].is_monotonic_increasing, \"DataFrame is not sorted by 'DateRetrieved' column in ascending order\")\n",
    "\n",
    "if __name__ == '__main__':\n",
    "    suite = unittest.TestLoader().loadTestsFromTestCase(TestSortBusByDate)\n",
    "    unittest.TextTestRunner().run(suite)\n",
    "\n"
   ]
  },
  {
   "cell_type": "code",
   "execution_count": 1,
   "id": "e97a7fd6-59d9-47db-9d27-95275ae1c0a2",
   "metadata": {},
   "outputs": [
    {
     "name": "stderr",
     "output_type": "stream",
     "text": [
      "/tmp/ipykernel_15655/3368861180.py:2: DeprecationWarning: \n",
      "Pyarrow will become a required dependency of pandas in the next major release of pandas (pandas 3.0),\n",
      "(to allow more performant data types, such as the Arrow string type, and better interoperability with other libraries)\n",
      "but was not found to be installed on your system.\n",
      "If this would cause problems for you,\n",
      "please provide us feedback at https://github.com/pandas-dev/pandas/issues/54466\n",
      "        \n",
      "  import pandas as pd\n",
      ".\n",
      "----------------------------------------------------------------------\n",
      "Ran 1 test in 0.001s\n",
      "\n",
      "OK\n"
     ]
    }
   ],
   "source": [
    "import unittest\n",
    "import pandas as pd\n",
    "from build_data_vis import sort_bus_by_date, find_directory\n",
    "import os\n",
    "\n",
    "class TestSortBusByDate(unittest.TestCase):\n",
    "\n",
    "    def test_sort_bus_by_date_for_all_buses(self):\n",
    "        # Call the function to get the directory\n",
    "        directory = find_directory()\n",
    "\n",
    "        # Iterate over all directories starting with 'bus_'\n",
    "        for bus_folder in os.listdir(directory):\n",
    "            if bus_folder.startswith('bus_'):\n",
    "                bus_directory = os.path.join(directory, bus_folder)\n",
    "                sorted_df = sort_bus_by_date(bus_directory, bus_folder)\n",
    "\n",
    "                # Assertion to check if the DataFrame is sorted by the 'DateRetrieved' column\n",
    "                self.assertTrue(sorted_df['DateRetrieved'].is_monotonic_increasing, f\"DataFrame for bus {bus_folder} is not sorted by 'DateRetrieved' column in ascending order\")\n",
    "\n",
    "if __name__ == '__main__':\n",
    "    suite = unittest.TestLoader().loadTestsFromTestCase(TestSortBusByDate)\n",
    "    unittest.TextTestRunner().run(suite)\n"
   ]
  },
  {
   "cell_type": "code",
   "execution_count": 12,
   "id": "35bfdd97-0f19-4e8b-9030-03072697fe4b",
   "metadata": {},
   "outputs": [
    {
     "ename": "AssertionError",
     "evalue": "DataFrame does not contain 'Current' in column names",
     "output_type": "error",
     "traceback": [
      "\u001b[0;31m---------------------------------------------------------------------------\u001b[0m",
      "\u001b[0;31mAssertionError\u001b[0m                            Traceback (most recent call last)",
      "Cell \u001b[0;32mIn[12], line 11\u001b[0m\n\u001b[1;32m      8\u001b[0m df \u001b[38;5;241m=\u001b[39m build_bus_df(directory, \u001b[38;5;124m'\u001b[39m\u001b[38;5;124mvis_buses/bus_0039142903b40233500710/\u001b[39m\u001b[38;5;124m'\u001b[39m, keyword)\n\u001b[1;32m     10\u001b[0m \u001b[38;5;66;03m# Assertion to check if the DataFrame contains the specified keyword in column names\u001b[39;00m\n\u001b[0;32m---> 11\u001b[0m \u001b[38;5;28;01massert\u001b[39;00m \u001b[38;5;28many\u001b[39m(keyword\u001b[38;5;241m.\u001b[39mlower() \u001b[38;5;129;01min\u001b[39;00m col\u001b[38;5;241m.\u001b[39mlower() \u001b[38;5;28;01mfor\u001b[39;00m col \u001b[38;5;129;01min\u001b[39;00m df\u001b[38;5;241m.\u001b[39mcolumns), \u001b[38;5;124mf\u001b[39m\u001b[38;5;124m\"\u001b[39m\u001b[38;5;124mDataFrame does not contain \u001b[39m\u001b[38;5;124m'\u001b[39m\u001b[38;5;132;01m{\u001b[39;00mkeyword\u001b[38;5;132;01m}\u001b[39;00m\u001b[38;5;124m'\u001b[39m\u001b[38;5;124m in column names\u001b[39m\u001b[38;5;124m\"\u001b[39m\n",
      "\u001b[0;31mAssertionError\u001b[0m: DataFrame does not contain 'Current' in column names"
     ]
    }
   ],
   "source": [
    "import pandas as pd\n",
    "from build_data_vis import build_bus_df\n",
    "\n",
    "# Assuming 'directory' and 'bus_num' are valid for your test case\n",
    "keyword_options = ['Current', 'Voltage', 'Power']\n",
    "\n",
    "for keyword in keyword_options:\n",
    "    df = build_bus_df(c, 'vis_buses/bus_0039142903b40233500710/', keyword)\n",
    "\n",
    "    # Assertion to check if the DataFrame contains the specified keyword in column names\n",
    "    assert any(keyword.lower() in col.lower() for col in df.columns), f\"DataFrame does not contain '{keyword}' in column names\"\n"
   ]
  },
  {
   "cell_type": "code",
   "execution_count": 17,
   "id": "50a584a8-feca-4e10-bcb6-ecdc27d0267c",
   "metadata": {},
   "outputs": [
    {
     "data": {
      "text/html": [
       "<div>\n",
       "<style scoped>\n",
       "    .dataframe tbody tr th:only-of-type {\n",
       "        vertical-align: middle;\n",
       "    }\n",
       "\n",
       "    .dataframe tbody tr th {\n",
       "        vertical-align: top;\n",
       "    }\n",
       "\n",
       "    .dataframe thead th {\n",
       "        text-align: right;\n",
       "    }\n",
       "</style>\n",
       "<table border=\"1\" class=\"dataframe\">\n",
       "  <thead>\n",
       "    <tr style=\"text-align: right;\">\n",
       "      <th></th>\n",
       "      <th>&lt; 450.0</th>\n",
       "      <th>450</th>\n",
       "      <th>460</th>\n",
       "      <th>470</th>\n",
       "      <th>480</th>\n",
       "      <th>490</th>\n",
       "      <th>500</th>\n",
       "      <th>510</th>\n",
       "      <th>520</th>\n",
       "      <th>530</th>\n",
       "      <th>...</th>\n",
       "      <th>670</th>\n",
       "      <th>680</th>\n",
       "      <th>690</th>\n",
       "      <th>700</th>\n",
       "      <th>710</th>\n",
       "      <th>720</th>\n",
       "      <th>730</th>\n",
       "      <th>740</th>\n",
       "      <th>&gt;= 750.0</th>\n",
       "      <th>TOTAL</th>\n",
       "    </tr>\n",
       "  </thead>\n",
       "  <tbody>\n",
       "    <tr>\n",
       "      <th>0</th>\n",
       "      <td>0</td>\n",
       "      <td>0</td>\n",
       "      <td>0</td>\n",
       "      <td>0</td>\n",
       "      <td>0</td>\n",
       "      <td>0</td>\n",
       "      <td>2</td>\n",
       "      <td>0</td>\n",
       "      <td>33</td>\n",
       "      <td>439</td>\n",
       "      <td>...</td>\n",
       "      <td>301690</td>\n",
       "      <td>194716</td>\n",
       "      <td>106311</td>\n",
       "      <td>18151</td>\n",
       "      <td>1063</td>\n",
       "      <td>4</td>\n",
       "      <td>0</td>\n",
       "      <td>0</td>\n",
       "      <td>0</td>\n",
       "      <td>11730296</td>\n",
       "    </tr>\n",
       "    <tr>\n",
       "      <th>1</th>\n",
       "      <td>27</td>\n",
       "      <td>0</td>\n",
       "      <td>0</td>\n",
       "      <td>0</td>\n",
       "      <td>0</td>\n",
       "      <td>0</td>\n",
       "      <td>2</td>\n",
       "      <td>0</td>\n",
       "      <td>33</td>\n",
       "      <td>440</td>\n",
       "      <td>...</td>\n",
       "      <td>305173</td>\n",
       "      <td>196624</td>\n",
       "      <td>107354</td>\n",
       "      <td>18399</td>\n",
       "      <td>1099</td>\n",
       "      <td>5</td>\n",
       "      <td>0</td>\n",
       "      <td>1</td>\n",
       "      <td>7</td>\n",
       "      <td>11912854</td>\n",
       "    </tr>\n",
       "    <tr>\n",
       "      <th>2</th>\n",
       "      <td>27</td>\n",
       "      <td>0</td>\n",
       "      <td>0</td>\n",
       "      <td>0</td>\n",
       "      <td>0</td>\n",
       "      <td>0</td>\n",
       "      <td>2</td>\n",
       "      <td>0</td>\n",
       "      <td>70</td>\n",
       "      <td>646</td>\n",
       "      <td>...</td>\n",
       "      <td>460645</td>\n",
       "      <td>297335</td>\n",
       "      <td>153481</td>\n",
       "      <td>23650</td>\n",
       "      <td>1385</td>\n",
       "      <td>5</td>\n",
       "      <td>0</td>\n",
       "      <td>1</td>\n",
       "      <td>7</td>\n",
       "      <td>17233181</td>\n",
       "    </tr>\n",
       "  </tbody>\n",
       "</table>\n",
       "<p>3 rows × 33 columns</p>\n",
       "</div>"
      ],
      "text/plain": [
       "   < 450.0  450  460  470  480  490  500  510  520  530  ...     670     680  \\\n",
       "0        0    0    0    0    0    0    2    0   33  439  ...  301690  194716   \n",
       "1       27    0    0    0    0    0    2    0   33  440  ...  305173  196624   \n",
       "2       27    0    0    0    0    0    2    0   70  646  ...  460645  297335   \n",
       "\n",
       "      690    700   710  720  730  740  >= 750.0     TOTAL  \n",
       "0  106311  18151  1063    4    0    0         0  11730296  \n",
       "1  107354  18399  1099    5    0    1         7  11912854  \n",
       "2  153481  23650  1385    5    0    1         7  17233181  \n",
       "\n",
       "[3 rows x 33 columns]"
      ]
     },
     "execution_count": 17,
     "metadata": {},
     "output_type": "execute_result"
    }
   ],
   "source": [
    "df = build_bus_df(directory,'vis_buses/bus_0039142903b40233500710/','Voltage')\n",
    "df"
   ]
  },
  {
   "cell_type": "code",
   "execution_count": 39,
   "id": "ed38b32d-b98f-4462-877c-8341420509f1",
   "metadata": {},
   "outputs": [
    {
     "name": "stderr",
     "output_type": "stream",
     "text": [
      ".\n",
      "----------------------------------------------------------------------\n",
      "Ran 1 test in 0.002s\n",
      "\n",
      "OK\n"
     ]
    }
   ],
   "source": [
    "import unittest\n",
    "import os\n",
    "from build_data_vis import build_module_df, find_directory\n",
    "\n",
    "class TestBuildModuleDF(unittest.TestCase):\n",
    "\n",
    "    def test_build_module_df(self):\n",
    "        # Call the function to get the directory\n",
    "        directory = find_directory()\n",
    "\n",
    "        # Iterate over all directories starting with 'bus_'\n",
    "        for bus_folder in os.listdir(directory):\n",
    "            if bus_folder.startswith('bus_'):\n",
    "                vin_number = bus_folder.split('_')[1]  # Extract the VIN number from the folder name\n",
    "                module_num = 0  # Example module number\n",
    "                expected_rows = 12  # Expected number of rows for each date retrieved within the bus folder\n",
    "\n",
    "                # Call the function to build the DataFrame for the specified module\n",
    "                df = build_module_df(directory, bus_folder, module_num)\n",
    "\n",
    "                # Assertion to check if the DataFrame has the expected number of rows\n",
    "                self.assertEqual(df.shape[0], expected_rows, f\"DataFrame for VIN {vin_number} and module {module_num} does not have the expected number of rows. Expected: {expected_rows}, Actual: {df.shape[0]}\")\n",
    "\n",
    "if __name__ == '__main__':\n",
    "    suite = unittest.TestLoader().loadTestsFromTestCase(TestFindDirectory)\n",
    "    unittest.TextTestRunner().run(suite)\n"
   ]
  },
  {
   "cell_type": "code",
   "execution_count": null,
   "id": "dbec725e-9697-4500-8d78-2b9a4a140865",
   "metadata": {},
   "outputs": [],
   "source": []
  }
 ],
 "metadata": {
  "kernelspec": {
   "display_name": "Python 3 (ipykernel)",
   "language": "python",
   "name": "python3"
  },
  "language_info": {
   "codemirror_mode": {
    "name": "ipython",
    "version": 3
   },
   "file_extension": ".py",
   "mimetype": "text/x-python",
   "name": "python",
   "nbconvert_exporter": "python",
   "pygments_lexer": "ipython3",
   "version": "3.11.5"
  }
 },
 "nbformat": 4,
 "nbformat_minor": 5
}
