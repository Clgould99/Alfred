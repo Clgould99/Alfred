{
 "cells": [
  {
   "cell_type": "code",
   "execution_count": 1,
   "id": "ef4c82ac-145a-4e7e-8648-c1f38503e76a",
   "metadata": {},
   "outputs": [
    {
     "data": {
      "text/plain": [
       "'/home/clgould99/Alfred/py_packages'"
      ]
     },
     "execution_count": 1,
     "metadata": {},
     "output_type": "execute_result"
    }
   ],
   "source": [
    "import os\n",
    "os.getcwd()"
   ]
  },
  {
   "cell_type": "code",
   "execution_count": 3,
   "id": "86324ae3-23d4-4067-bd94-027217238762",
   "metadata": {},
   "outputs": [
    {
     "data": {
      "text/plain": [
       "'__main__'"
      ]
     },
     "execution_count": 3,
     "metadata": {},
     "output_type": "execute_result"
    }
   ],
   "source": [
    "__name__"
   ]
  },
  {
   "cell_type": "code",
   "execution_count": 8,
   "id": "7e9363f9-6688-418c-ae21-7a80e14c420e",
   "metadata": {},
   "outputs": [
    {
     "name": "stdin",
     "output_type": "stream",
     "text": [
      "Enter the name of the raw data folder:  test\n"
     ]
    },
    {
     "name": "stdout",
     "output_type": "stream",
     "text": [
      "test\n"
     ]
    }
   ],
   "source": [
    "raw_data_folder_name = input(\"Enter the name of the raw data folder: \")\n",
    "print (raw_data_folder_name)"
   ]
  },
  {
   "cell_type": "code",
   "execution_count": 1,
   "id": "4e549192-c4b9-4d5a-96c7-cb5c9dd7148c",
   "metadata": {},
   "outputs": [
    {
     "name": "stdin",
     "output_type": "stream",
     "text": [
      "Enter the name of the raw data folder:  random\n",
      "Enter the name of the zip file (include .zip):  anything.zip\n"
     ]
    },
    {
     "ename": "FileExistsError",
     "evalue": "[Errno 17] File exists: '/home/clgould99/TheBattmobile/Alfred/test_data/all_buses'",
     "output_type": "error",
     "traceback": [
      "\u001b[0;31m---------------------------------------------------------------------------\u001b[0m",
      "\u001b[0;31mFileExistsError\u001b[0m                           Traceback (most recent call last)",
      "Cell \u001b[0;32mIn[1], line 1\u001b[0m\n\u001b[0;32m----> 1\u001b[0m \u001b[38;5;28;01mimport\u001b[39;00m \u001b[38;5;21;01mauto_sort_data_test\u001b[39;00m\n",
      "File \u001b[0;32m~/TheBattmobile/Alfred/test_data/auto_sort_data_test.py:517\u001b[0m\n\u001b[1;32m    514\u001b[0m \u001b[38;5;28;01mif\u001b[39;00m \u001b[38;5;18m__name__\u001b[39m \u001b[38;5;241m==\u001b[39m \u001b[38;5;124m\"\u001b[39m\u001b[38;5;124m__main__\u001b[39m\u001b[38;5;124m\"\u001b[39m:\n\u001b[1;32m    515\u001b[0m     main()\n\u001b[0;32m--> 517\u001b[0m main()\n",
      "File \u001b[0;32m~/TheBattmobile/Alfred/test_data/auto_sort_data_test.py:503\u001b[0m, in \u001b[0;36mmain\u001b[0;34m()\u001b[0m\n\u001b[1;32m    500\u001b[0m sorted_path \u001b[38;5;241m=\u001b[39m find_directory() \u001b[38;5;241m+\u001b[39m \u001b[38;5;124m\"\u001b[39m\u001b[38;5;124msorted_data\u001b[39m\u001b[38;5;124m\"\u001b[39m\n\u001b[1;32m    501\u001b[0m all_folder \u001b[38;5;241m=\u001b[39m find_directory() \u001b[38;5;241m+\u001b[39m \u001b[38;5;124m\"\u001b[39m\u001b[38;5;124mall_buses\u001b[39m\u001b[38;5;124m\"\u001b[39m\n\u001b[0;32m--> 503\u001b[0m shutil\u001b[38;5;241m.\u001b[39mcopytree(vis_path, all_folder)\n\u001b[1;32m    505\u001b[0m \u001b[38;5;28;01mfor\u001b[39;00m root, dirs, files \u001b[38;5;129;01min\u001b[39;00m os\u001b[38;5;241m.\u001b[39mwalk(sorted_path):\n\u001b[1;32m    506\u001b[0m     \u001b[38;5;28;01mfor\u001b[39;00m dir_name \u001b[38;5;129;01min\u001b[39;00m dirs:\n\u001b[1;32m    507\u001b[0m         \u001b[38;5;66;03m# Check if the folder name starts with 'bus_'\u001b[39;00m\n",
      "File \u001b[0;32m~/miniconda3/lib/python3.11/shutil.py:561\u001b[0m, in \u001b[0;36mcopytree\u001b[0;34m(src, dst, symlinks, ignore, copy_function, ignore_dangling_symlinks, dirs_exist_ok)\u001b[0m\n\u001b[1;32m    559\u001b[0m \u001b[38;5;28;01mwith\u001b[39;00m os\u001b[38;5;241m.\u001b[39mscandir(src) \u001b[38;5;28;01mas\u001b[39;00m itr:\n\u001b[1;32m    560\u001b[0m     entries \u001b[38;5;241m=\u001b[39m \u001b[38;5;28mlist\u001b[39m(itr)\n\u001b[0;32m--> 561\u001b[0m \u001b[38;5;28;01mreturn\u001b[39;00m _copytree(entries\u001b[38;5;241m=\u001b[39mentries, src\u001b[38;5;241m=\u001b[39msrc, dst\u001b[38;5;241m=\u001b[39mdst, symlinks\u001b[38;5;241m=\u001b[39msymlinks,\n\u001b[1;32m    562\u001b[0m                  ignore\u001b[38;5;241m=\u001b[39mignore, copy_function\u001b[38;5;241m=\u001b[39mcopy_function,\n\u001b[1;32m    563\u001b[0m                  ignore_dangling_symlinks\u001b[38;5;241m=\u001b[39mignore_dangling_symlinks,\n\u001b[1;32m    564\u001b[0m                  dirs_exist_ok\u001b[38;5;241m=\u001b[39mdirs_exist_ok)\n",
      "File \u001b[0;32m~/miniconda3/lib/python3.11/shutil.py:459\u001b[0m, in \u001b[0;36m_copytree\u001b[0;34m(entries, src, dst, symlinks, ignore, copy_function, ignore_dangling_symlinks, dirs_exist_ok)\u001b[0m\n\u001b[1;32m    456\u001b[0m \u001b[38;5;28;01melse\u001b[39;00m:\n\u001b[1;32m    457\u001b[0m     ignored_names \u001b[38;5;241m=\u001b[39m \u001b[38;5;28mset\u001b[39m()\n\u001b[0;32m--> 459\u001b[0m os\u001b[38;5;241m.\u001b[39mmakedirs(dst, exist_ok\u001b[38;5;241m=\u001b[39mdirs_exist_ok)\n\u001b[1;32m    460\u001b[0m errors \u001b[38;5;241m=\u001b[39m []\n\u001b[1;32m    461\u001b[0m use_srcentry \u001b[38;5;241m=\u001b[39m copy_function \u001b[38;5;129;01mis\u001b[39;00m copy2 \u001b[38;5;129;01mor\u001b[39;00m copy_function \u001b[38;5;129;01mis\u001b[39;00m copy\n",
      "File \u001b[0;32m<frozen os>:225\u001b[0m, in \u001b[0;36mmakedirs\u001b[0;34m(name, mode, exist_ok)\u001b[0m\n",
      "\u001b[0;31mFileExistsError\u001b[0m: [Errno 17] File exists: '/home/clgould99/TheBattmobile/Alfred/test_data/all_buses'"
     ]
    }
   ],
   "source": [
    "import auto_sort_data_test"
   ]
  },
  {
   "cell_type": "code",
   "execution_count": 2,
   "id": "b069eb15-4a07-470a-9f36-6f9a78884b20",
   "metadata": {},
   "outputs": [
    {
     "name": "stdin",
     "output_type": "stream",
     "text": [
      "Enter the name of the raw data folder:  random\n",
      "Enter the name of the zip file (include .zip):  anything.zip\n"
     ]
    },
    {
     "ename": "Error",
     "evalue": "Destination path '/home/clgould99/TheBattmobile/Alfred/test_data/vis_buses/vis_buses' already exists",
     "output_type": "error",
     "traceback": [
      "\u001b[0;31m---------------------------------------------------------------------------\u001b[0m",
      "\u001b[0;31mError\u001b[0m                                     Traceback (most recent call last)",
      "Cell \u001b[0;32mIn[2], line 3\u001b[0m\n\u001b[1;32m      1\u001b[0m \u001b[38;5;28;01mimport\u001b[39;00m \u001b[38;5;21;01munittest\u001b[39;00m\n\u001b[1;32m      2\u001b[0m \u001b[38;5;28;01mimport\u001b[39;00m \u001b[38;5;21;01mpathlib\u001b[39;00m\n\u001b[0;32m----> 3\u001b[0m \u001b[38;5;28;01mfrom\u001b[39;00m \u001b[38;5;21;01mauto_sort_data_test\u001b[39;00m \u001b[38;5;28;01mimport\u001b[39;00m find_directory\n\u001b[1;32m      5\u001b[0m \u001b[38;5;28;01mclass\u001b[39;00m \u001b[38;5;21;01mTestFindDirectory\u001b[39;00m(unittest\u001b[38;5;241m.\u001b[39mTestCase):\n\u001b[1;32m      7\u001b[0m     \u001b[38;5;28;01mdef\u001b[39;00m \u001b[38;5;21mtest_find_directory_ends_with_forward_slash\u001b[39m(\u001b[38;5;28mself\u001b[39m):\n",
      "File \u001b[0;32m~/TheBattmobile/Alfred/test_data/auto_sort_data_test.py:517\u001b[0m\n\u001b[1;32m    514\u001b[0m \u001b[38;5;28;01mif\u001b[39;00m \u001b[38;5;18m__name__\u001b[39m \u001b[38;5;241m==\u001b[39m \u001b[38;5;124m\"\u001b[39m\u001b[38;5;124m__main__\u001b[39m\u001b[38;5;124m\"\u001b[39m:\n\u001b[1;32m    515\u001b[0m     main()\n\u001b[0;32m--> 517\u001b[0m main()\n",
      "File \u001b[0;32m~/TheBattmobile/Alfred/test_data/auto_sort_data_test.py:497\u001b[0m, in \u001b[0;36mmain\u001b[0;34m()\u001b[0m\n\u001b[1;32m    495\u001b[0m current_path \u001b[38;5;241m=\u001b[39m find_directory() \u001b[38;5;241m+\u001b[39m \u001b[38;5;124m\"\u001b[39m\u001b[38;5;124msorted_data/vis_buses\u001b[39m\u001b[38;5;124m\"\u001b[39m\n\u001b[1;32m    496\u001b[0m destination_path \u001b[38;5;241m=\u001b[39m find_directory() \u001b[38;5;241m+\u001b[39m \u001b[38;5;124m\"\u001b[39m\u001b[38;5;124mvis_buses\u001b[39m\u001b[38;5;124m\"\u001b[39m\n\u001b[0;32m--> 497\u001b[0m shutil\u001b[38;5;241m.\u001b[39mmove(current_path, destination_path)\n\u001b[1;32m    499\u001b[0m vis_path \u001b[38;5;241m=\u001b[39m find_directory() \u001b[38;5;241m+\u001b[39m \u001b[38;5;124m'\u001b[39m\u001b[38;5;124mvis_buses\u001b[39m\u001b[38;5;124m'\u001b[39m\n\u001b[1;32m    500\u001b[0m sorted_path \u001b[38;5;241m=\u001b[39m find_directory() \u001b[38;5;241m+\u001b[39m \u001b[38;5;124m\"\u001b[39m\u001b[38;5;124msorted_data\u001b[39m\u001b[38;5;124m\"\u001b[39m\n",
      "File \u001b[0;32m~/miniconda3/lib/python3.11/shutil.py:823\u001b[0m, in \u001b[0;36mmove\u001b[0;34m(src, dst, copy_function)\u001b[0m\n\u001b[1;32m    820\u001b[0m     real_dst \u001b[38;5;241m=\u001b[39m os\u001b[38;5;241m.\u001b[39mpath\u001b[38;5;241m.\u001b[39mjoin(dst, _basename(src))\n\u001b[1;32m    822\u001b[0m     \u001b[38;5;28;01mif\u001b[39;00m os\u001b[38;5;241m.\u001b[39mpath\u001b[38;5;241m.\u001b[39mexists(real_dst):\n\u001b[0;32m--> 823\u001b[0m         \u001b[38;5;28;01mraise\u001b[39;00m Error(\u001b[38;5;124m\"\u001b[39m\u001b[38;5;124mDestination path \u001b[39m\u001b[38;5;124m'\u001b[39m\u001b[38;5;132;01m%s\u001b[39;00m\u001b[38;5;124m'\u001b[39m\u001b[38;5;124m already exists\u001b[39m\u001b[38;5;124m\"\u001b[39m \u001b[38;5;241m%\u001b[39m real_dst)\n\u001b[1;32m    824\u001b[0m \u001b[38;5;28;01mtry\u001b[39;00m:\n\u001b[1;32m    825\u001b[0m     os\u001b[38;5;241m.\u001b[39mrename(src, real_dst)\n",
      "\u001b[0;31mError\u001b[0m: Destination path '/home/clgould99/TheBattmobile/Alfred/test_data/vis_buses/vis_buses' already exists"
     ]
    }
   ],
   "source": [
    "import unittest\n",
    "import pathlib\n",
    "from auto_sort_data_test import find_directory\n",
    "\n",
    "class TestFindDirectory(unittest.TestCase):\n",
    "\n",
    "    def test_find_directory_ends_with_forward_slash(self):\n",
    "        directory = find_directory()\n",
    "\n",
    "        self.assertTrue(directory.endswith('/'), \"Directory does not end with a forward slash\")\n",
    "\n",
    "if __name__ == '__main__':\n",
    "    suite = unittest.TestLoader().loadTestsFromTestCase(TestFindDirectory)\n",
    "    unittest.TextTestRunner().run(suite)\n"
   ]
  },
  {
   "cell_type": "code",
   "execution_count": 2,
   "id": "14235824-eb06-47a5-abe0-3c9875ebe4b4",
   "metadata": {},
   "outputs": [
    {
     "name": "stdin",
     "output_type": "stream",
     "text": [
      "Enter the name of the raw data folder:  random\n",
      "Enter the name of the zip file (include .zip):  anything.zip\n"
     ]
    },
    {
     "name": "stderr",
     "output_type": "stream",
     "text": [
      ".\n",
      "----------------------------------------------------------------------\n",
      "Ran 1 test in 0.008s\n",
      "\n",
      "OK\n"
     ]
    }
   ],
   "source": [
    "import unittest\n",
    "import os\n",
    "import tempfile\n",
    "import zipfile\n",
    "from auto_sort_data_test import grab_csv\n",
    "\n",
    "class TestGrabCSV(unittest.TestCase):\n",
    "    def setUp(self):\n",
    "        # temporary directory for testing\n",
    "        self.temp_dir = tempfile.mkdtemp()\n",
    "\n",
    "        # Extract testing data\n",
    "        with zipfile.ZipFile(\"random/anything.zip\", \"r\") as zip_ref:\n",
    "            zip_ref.extractall(self.temp_dir)\n",
    "\n",
    "    def tearDown(self):\n",
    "        # Clean up all files in the temporary directory\n",
    "        for file_name in os.listdir(self.temp_dir):\n",
    "            file_path = os.path.join(self.temp_dir, file_name)\n",
    "            if os.path.isfile(file_path):\n",
    "                os.remove(file_path)\n",
    "        \n",
    "        # remove the temporary directory\n",
    "        os.rmdir(self.temp_dir)\n",
    "\n",
    "    def test_grab_csv(self):\n",
    "        result = grab_csv(self.temp_dir)\n",
    "        \n",
    "        # expected list of CSV files\n",
    "        expected_result = [\n",
    "            '14F0154_ProfileData_20171116125343(2).csv', \n",
    "            '14B0059_ProfileData_20180403061303(2).csv', \n",
    "            '14H0221_ProfileData_20171005100537(3).csv',\n",
    "            '14H0221_ProfileData_20171027081821(2).csv',\n",
    "            '14H0221_ProfileData_20180403084955(2).csv',\n",
    "            '0014_ProfileData_20160727062458(2).csv',\n",
    "            '0014_ProfileData_20161004063626(2).csv',\n",
    "            '0014_ProfileData_20161201100821(2).csv',\n",
    "            '0014_ProfileData_20170207092734(2).csv',\n",
    "            '13J0014_ProfileData_20180801084738(2).csv',\n",
    "            '13J0014_ProfileData_20180802094539(2).csv',\n",
    "            '_ProfileData_20180425073946(2).csv',\n",
    "            '_ProfileData_20180508065837(2).csv'\n",
    "        ]\n",
    "        \n",
    "        # Sort both the actual result and the expected result\n",
    "        result.sort()\n",
    "        expected_result.sort()\n",
    "        \n",
    "        # Assert that the sorted result matches the sorted expected result\n",
    "        self.assertEqual(result, expected_result)\n",
    "\n",
    "if __name__ == '__main__':\n",
    "    suite = unittest.TestLoader().loadTestsFromTestCase(TestGrabCSV)\n",
    "    unittest.TextTestRunner().run(suite)"
   ]
  },
  {
   "cell_type": "code",
   "execution_count": null,
   "id": "7b7513af-c6dd-4cb0-86e5-d90e3b93c1ba",
   "metadata": {},
   "outputs": [],
   "source": []
  }
 ],
 "metadata": {
  "kernelspec": {
   "display_name": "Python 3 (ipykernel)",
   "language": "python",
   "name": "python3"
  },
  "language_info": {
   "codemirror_mode": {
    "name": "ipython",
    "version": 3
   },
   "file_extension": ".py",
   "mimetype": "text/x-python",
   "name": "python",
   "nbconvert_exporter": "python",
   "pygments_lexer": "ipython3",
   "version": "3.11.5"
  }
 },
 "nbformat": 4,
 "nbformat_minor": 5
}
